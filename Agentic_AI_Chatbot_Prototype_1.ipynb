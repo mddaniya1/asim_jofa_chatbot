{
  "cells": [
    {
      "cell_type": "markdown",
      "metadata": {
        "id": "view-in-github",
        "colab_type": "text"
      },
      "source": [
        "<a href=\"https://colab.research.google.com/github/mddaniya1/asim_jofa_chatbot/blob/main/Agentic_AI_Chatbot_Prototype_1.ipynb\" target=\"_parent\"><img src=\"https://colab.research.google.com/assets/colab-badge.svg\" alt=\"Open In Colab\"/></a>"
      ]
    },
    {
      "cell_type": "markdown",
      "metadata": {
        "id": "Z1mqFHi6Ulgi"
      },
      "source": [
        "# Objective:\n",
        "\n",
        "Create a chatbot prototype that talks to users, remembers what they say during conversation, and helps them solve problems.\n",
        "\n",
        "## Project Requirements:\n",
        "\n",
        "- ***Choose Your Niche:*** Pick a specific group of people or industry to help with your chatbot (e.g., students, healthcare, customer service).\n",
        "\n",
        "- ***Make Smart Conversations:*** Make sure the chatbot answers correctly and understands what users want. Use Prompt Engineering.\n",
        "\n",
        "- ***Add Useful Tools:*** Give the chatbot features like helping users submit complaints, giving outfit ideas, or making study plans.\n",
        "\n",
        "- ***Short-Term Memory:*** Make the chatbot remember the current conversation to give better answers.\n",
        "\n",
        "- ***Use Google Colab:*** Build and test your chatbot using this platform.\n",
        "\n",
        "## Deliverables:\n",
        "\n",
        "- A working chatbot prototype - Google Collab Link.\n",
        "\n",
        "- A list of tools and examples of how the chatbot can help people."
      ]
    },
    {
      "cell_type": "markdown",
      "metadata": {
        "id": "0dWmVMazXHRL"
      },
      "source": [
        "# Setup\n",
        "\n",
        "- First, install the required packages:"
      ]
    },
    {
      "cell_type": "code",
      "execution_count": 1,
      "metadata": {
        "id": "ZolSHSCfU6JX"
      },
      "outputs": [],
      "source": [
        "%%capture --no-stderr\n",
        "%pip install -U langgraph langsmith langchain_google_genai"
      ]
    },
    {
      "cell_type": "markdown",
      "metadata": {
        "id": "aXeoiR-iYB39"
      },
      "source": [
        "- Next, set your API keys:"
      ]
    },
    {
      "cell_type": "code",
      "execution_count": 2,
      "metadata": {
        "id": "aSIW9TPNYD44"
      },
      "outputs": [],
      "source": [
        "import os\n",
        "from google.colab import userdata\n",
        "\n",
        "os.environ[\"LANGCHAIN_API_KEY\"] = userdata.get('LANGCHAIN_API_KEY')\n",
        "os.environ[\"LANGCHAIN_TRACING_V2\"] = \"true\"\n",
        "os.environ[\"LANGCHAIN_PROJECT\"] = \"quickstart\"\n",
        "\n",
        "gemini_api_key = userdata.get('GEMINI_API_KEY')\n",
        "tavily_api_key = userdata.get('TAVILY_API_KEY')"
      ]
    },
    {
      "cell_type": "markdown",
      "metadata": {
        "id": "VSAnp_DPYTe2"
      },
      "source": [
        "- Setting up LLM model"
      ]
    },
    {
      "cell_type": "code",
      "execution_count": 3,
      "metadata": {
        "colab": {
          "base_uri": "https://localhost:8080/"
        },
        "id": "UNalyuqtYfqp",
        "outputId": "5701802f-391a-4f56-88c0-4ead4b0501d4"
      },
      "outputs": [
        {
          "output_type": "execute_result",
          "data": {
            "text/plain": [
              "AIMessage(content='Hello there!\\n', additional_kwargs={}, response_metadata={'prompt_feedback': {'block_reason': 0, 'safety_ratings': []}, 'finish_reason': 'STOP', 'safety_ratings': []}, id='run-f0f3a5f8-1352-49b3-bddb-f6631e60c791-0', usage_metadata={'input_tokens': 3, 'output_tokens': 4, 'total_tokens': 7, 'input_token_details': {'cache_read': 0}})"
            ]
          },
          "metadata": {},
          "execution_count": 3
        }
      ],
      "source": [
        "from langchain_google_genai import ChatGoogleGenerativeAI\n",
        "\n",
        "llm = ChatGoogleGenerativeAI(\n",
        "    model=\"gemini-1.5-flash\",\n",
        "    max_retries=2,\n",
        "    api_key=gemini_api_key\n",
        ")\n",
        "\n",
        "llm.invoke(\"greet me\")"
      ]
    },
    {
      "cell_type": "markdown",
      "metadata": {
        "id": "YS7jhNUIPuJb"
      },
      "source": [
        "- Now, creating a chatbot for the students of computer science, which have useful tools and shot-term memory."
      ]
    },
    {
      "cell_type": "code",
      "execution_count": 5,
      "metadata": {
        "id": "IcUx9lEuUA7I"
      },
      "outputs": [],
      "source": [
        "from typing import Annotated\n",
        "from typing_extensions import TypedDict\n",
        "from langgraph.graph import StateGraph, START, END\n",
        "from langgraph.graph.message import add_messages\n",
        "from langchain_google_genai import ChatGoogleGenerativeAI\n",
        "from langgraph.graph import MessagesState\n",
        "from langchain_core.messages import AIMessage, HumanMessage, SystemMessage\n",
        "\n",
        "\n",
        "# Memory for short-term conversation\n",
        "conversation_memory = {}\n",
        "\n",
        "def remember_user_input(key, value):\n",
        "    \"\"\"Stores user input in conversation memory.\"\"\"\n",
        "    conversation_memory[key] = value\n",
        "\n",
        "\n",
        "# State definition\n",
        "class State(TypedDict):\n",
        "    messages: Annotated[list, add_messages]\n",
        "\n",
        "# Initialize StateGraph\n",
        "graph_builder = StateGraph(State)\n",
        "\n",
        "\n",
        "# Tools\n",
        "\n",
        "def mcb_bank_customer_support(query: str) -> str:\n",
        "    \"\"\"Provide responses for common banking customer support queries.\"\"\"\n",
        "    prompt = f\"Provide a helpful response to the following bank customer support query:\\n{query}\"\n",
        "    return llm.invoke(prompt)\n",
        "\n",
        "def code_explainer(code_snippet: str) -> str:\n",
        "    \"\"\"Explain the given code snippet in simple terms.\"\"\"\n",
        "    prompt = f\"Explain the following code in simple terms:\\n\\n{code_snippet}\"\n",
        "    return llm.invoke(prompt)\n",
        "\n",
        "def generate_cheat_sheet(topic: str) -> str:\n",
        "    \"\"\"Generate a cheat sheet for a given topic.\"\"\"\n",
        "    prompt = f\"Create a detailed cheat sheet for the topic: {topic}. Include key points and examples.\"\n",
        "    return llm.invoke(prompt)\n",
        "\n",
        "def smart_todo_list(tasks: str) -> str:\n",
        "    \"\"\"Organize the tasks into a smart to-do list.\"\"\"\n",
        "    prompt = f\"Organize the following tasks into a prioritized to-do list with deadlines:\\n{tasks}\"\n",
        "    return llm.invoke(prompt)\n",
        "\n",
        "def interview_prepration(question: str) -> str:\n",
        "    \"\"\"Provide a detailed training for interview question.\"\"\"\n",
        "    prompt = f\"Provide a list of common interview questions and some tips for preparing for an interview:\\n{question}\"\n",
        "    return llm.invoke(prompt)\n",
        "\n",
        "\n",
        "# Combine all tools\n",
        "tools = [code_explainer, generate_cheat_sheet, smart_todo_list, interview_prepration]\n",
        "\n",
        "tools.append(mcb_bank_customer_support)\n",
        "\n",
        "# Initialize LLM\n",
        "llm = ChatGoogleGenerativeAI(\n",
        "    model=\"gemini-1.5-flash\",\n",
        "    max_retries=2,\n",
        "    api_key=gemini_api_key\n",
        ")\n",
        "llm_with_tools = llm.bind_tools(tools)\n",
        "\n",
        "\n",
        "# System message\n",
        "sys_msg = SystemMessage(content=\"You are a helpful assistant for MCB bank customer support. Your role is to provide clear and accurate answers to common customer inquiries related to banking services, such as account details, transactions, loans, and troubleshooting issues.\")\n",
        "\n",
        "\n",
        "# Node\n",
        "def assistant(state: MessagesState) -> MessagesState:\n",
        "    # Extract the last user message\n",
        "    last_message = state[\"messages\"][-1] if state[\"messages\"] else None\n",
        "\n",
        "    # Check if the last message is a HumanMessage\n",
        "    if isinstance(last_message, HumanMessage):\n",
        "        # Remember the user input\n",
        "        remember_user_input(\"last_user_input\", last_message.content)\n",
        "\n",
        "    # Prepare the response with memory context\n",
        "    memory_context = \"\"\n",
        "    if \"last_user_input\" in conversation_memory:\n",
        "        memory_context = f\"Previously, you mentioned: {conversation_memory['last_user_input']}\\n\"\n",
        "\n",
        "    # Invoke the LLM with the system message, memory context, and current messages\n",
        "    response = llm_with_tools.invoke([sys_msg, memory_context] + state[\"messages\"])\n",
        "\n",
        "    return {\"messages\": [response]}\n"
      ]
    },
    {
      "cell_type": "code",
      "execution_count": 6,
      "metadata": {
        "colab": {
          "base_uri": "https://localhost:8080/",
          "height": 266
        },
        "id": "_bKQsCBCVQpS",
        "outputId": "c2ba439c-6c80-49ef-dca6-e724df94f364"
      },
      "outputs": [
        {
          "output_type": "display_data",
          "data": {
            "image/png": "[encoded data removed]",
            "text/plain": [
              "<IPython.core.display.Image object>"
            ]
          },
          "metadata": {}
        }
      ],
      "source": [
        "from langgraph.graph import START, StateGraph\n",
        "from langgraph.prebuilt import tools_condition\n",
        "from langgraph.prebuilt import ToolNode\n",
        "from IPython.display import Image, display\n",
        "from langgraph.graph.state import CompiledStateGraph\n",
        "\n",
        "# Graph\n",
        "builder: StateGraph = StateGraph(MessagesState)\n",
        "\n",
        "# Define nodes\n",
        "builder.add_node(\"assistant\", assistant)\n",
        "builder.add_node(\"tools\", ToolNode(tools))\n",
        "\n",
        "# Define edges\n",
        "builder.add_edge(START, \"assistant\")\n",
        "builder.add_conditional_edges(\n",
        "    \"assistant\",\n",
        "    tools_condition,\n",
        ")\n",
        "builder.add_edge(\"tools\", \"assistant\")\n",
        "react_graph: CompiledStateGraph = builder.compile()\n",
        "\n",
        "# Show\n",
        "display(Image(react_graph.get_graph(xray=True).draw_mermaid_png()))"
      ]
    },
    {
      "cell_type": "markdown",
      "metadata": {
        "id": "Lc84LQvd0FgJ"
      },
      "source": [
        "- **Explains code snippets in simple terms, making it easier for students to understand complex code.**"
      ]
    },
    {
      "cell_type": "code",
      "source": [
        "messages = [HumanMessage(content=\"I need help with my MCB bank account balance. Can you check it for me?\")]\n",
        "messages = react_graph.invoke({\"messages\": messages})"
      ],
      "metadata": {
        "id": "lSFCUbnoVPjY"
      },
      "execution_count": 7,
      "outputs": []
    },
    {
      "cell_type": "code",
      "execution_count": 8,
      "metadata": {
        "colab": {
          "base_uri": "https://localhost:8080/"
        },
        "id": "S4qfGP95XnO9",
        "outputId": "d0317fd6-747f-4434-a27f-6a8bbfca5afb"
      },
      "outputs": [
        {
          "output_type": "stream",
          "name": "stdout",
          "text": [
            "================================\u001b[1m Human Message \u001b[0m=================================\n",
            "\n",
            "I need help with my MCB bank account balance. Can you check it for me?\n",
            "==================================\u001b[1m Ai Message \u001b[0m==================================\n",
            "\n",
            "I cannot directly access your MCB bank account information due to security and privacy restrictions.  To check your account balance, I recommend using one of the following methods:\n",
            "\n",
            "* **MCB Bank Mobile App:** Download the official MCB Bank mobile app and log in to view your balance.\n",
            "* **MCB Bank Online Banking:** Access your account through the MCB Bank online banking portal.\n",
            "* **Call MCB Bank Customer Service:** Contact MCB Bank's customer service hotline. They can assist you with checking your balance and answer any other questions you may have.\n",
            "* **Visit a Branch:** Visit your nearest MCB Bank branch.  A bank representative will be able to help.\n",
            "\n",
            "\n",
            "Please remember to never share your banking credentials (username, password, etc.) with anyone, including me.\n"
          ]
        }
      ],
      "source": [
        "for m in messages['messages']:\n",
        "    m.pretty_print()"
      ]
    },
    {
      "cell_type": "code",
      "execution_count": 9,
      "metadata": {
        "colab": {
          "base_uri": "https://localhost:8080/"
        },
        "id": "VcxJcLUvkowe",
        "outputId": "bbcaf3e0-7f81-4f4b-8d67-a0b5b89a5682"
      },
      "outputs": [
        {
          "output_type": "stream",
          "name": "stdout",
          "text": [
            "{'last_user_input': 'I need help with my MCB bank account balance. Can you check it for me?'}\n"
          ]
        }
      ],
      "source": [
        "print(conversation_memory)"
      ]
    },
    {
      "cell_type": "markdown",
      "metadata": {
        "id": "TDAkAeg10lU-"
      },
      "source": [
        "- **Creates concise cheat sheets for various topics in computer science, summarizing key concepts and examples.**"
      ]
    },
    {
      "cell_type": "code",
      "execution_count": 10,
      "metadata": {
        "id": "PGuJ4eYnk3mn"
      },
      "outputs": [],
      "source": [
        "messages = [HumanMessage(content= \"A customer has lost their ATM card. Can you guide them through the process of blocking the card and applying for a replacement?\"\n",
        ")]\n",
        "messages = react_graph.invoke({\"messages\": messages})"
      ]
    },
    {
      "cell_type": "code",
      "execution_count": 11,
      "metadata": {
        "colab": {
          "base_uri": "https://localhost:8080/"
        },
        "id": "0EpyY8UWk4KO",
        "outputId": "452de195-f70a-44d2-ba63-6b5cca5dc0af"
      },
      "outputs": [
        {
          "output_type": "stream",
          "name": "stdout",
          "text": [
            "================================\u001b[1m Human Message \u001b[0m=================================\n",
            "\n",
            "A customer has lost their ATM card. Can you guide them through the process of blocking the card and applying for a replacement?\n",
            "==================================\u001b[1m Ai Message \u001b[0m==================================\n",
            "\n",
            "Certainly! Here's how an MCB Bank customer can block their lost ATM card and apply for a replacement:\n",
            "\n",
            "**1. Immediately Block Your Card:**\n",
            "\n",
            "* **Call the MCB Bank 24/7 Helpline:**  The fastest way to block your card is to call MCB Bank's customer service hotline.  They will have the necessary information to deactivate your card immediately, preventing any unauthorized transactions.  (You'll need your account details handy).\n",
            "\n",
            "* **MCB Bank Mobile App (if available):** Many banks offer mobile apps where you can manage your cards. Check if your MCB Bank app has a \"Block Card\" or similar option.\n",
            "\n",
            "**2. Report the Loss:**\n",
            "\n",
            "* **File a Report:** After blocking the card, it's crucial to formally report the loss to the bank. This is usually done through the same customer service hotline or by visiting a branch.  They may require you to provide some details about your card and account.\n",
            "\n",
            "**3. Apply for a Replacement Card:**\n",
            "\n",
            "* **Request a New Card:** During your call or visit, request a replacement ATM card. The bank representative will guide you through the necessary steps. You might need to provide updated contact information or answer security questions.\n",
            "\n",
            "* **Delivery or Collection:** Inquire about how you'll receive your new card.  MCB Bank might mail it to your registered address or allow you to collect it from a branch.\n",
            "\n",
            "* **Activation:** Once you receive your new card, you will likely need to activate it following the instructions provided by the bank. This usually involves using an ATM or the mobile app.\n",
            "\n",
            "\n",
            "**Important Considerations:**\n",
            "\n",
            "* **Keep Records:** Keep a record of your call with the helpline, including the date, time, and any reference numbers provided.  This will be helpful if there are any further issues.\n",
            "\n",
            "* **Review your Account:** Regularly check your account statements for any unusual activity.\n",
            "\n",
            "\n",
            "By following these steps, you can quickly secure your account and obtain a replacement ATM card. Remember to always be cautious about sharing your personal and banking information.\n"
          ]
        }
      ],
      "source": [
        "for m in messages['messages']:\n",
        "    m.pretty_print()"
      ]
    },
    {
      "cell_type": "code",
      "execution_count": 12,
      "metadata": {
        "colab": {
          "base_uri": "https://localhost:8080/"
        },
        "id": "aAHJKwtRmDSa",
        "outputId": "169d6413-20e6-4642-e84b-5a1841d13d9b"
      },
      "outputs": [
        {
          "output_type": "stream",
          "name": "stdout",
          "text": [
            "{'last_user_input': 'A customer has lost their ATM card. Can you guide them through the process of blocking the card and applying for a replacement?'}\n"
          ]
        }
      ],
      "source": [
        "print(conversation_memory)"
      ]
    },
    {
      "cell_type": "markdown",
      "metadata": {
        "id": "_K1r2N3B2YIb"
      },
      "source": [
        "- **Organizes tasks into a prioritized to-do list, helping students manage their assignments and projects effectively.**"
      ]
    },
    {
      "cell_type": "code",
      "execution_count": 13,
      "metadata": {
        "id": "bWJq0zbs2A2Y"
      },
      "outputs": [],
      "source": [
        "messages = [HumanMessage(content=\"Can you assist the customer in setting up MCB's mobile banking app and explain how to use it for everyday transactions?\")]\n",
        "messages = react_graph.invoke({\"messages\": messages})"
      ]
    },
    {
      "cell_type": "code",
      "execution_count": 14,
      "metadata": {
        "colab": {
          "base_uri": "https://localhost:8080/"
        },
        "id": "k-Jx2F9u2ArD",
        "outputId": "d2d8ed89-1c91-4c1f-b872-7e67f877b000"
      },
      "outputs": [
        {
          "output_type": "stream",
          "name": "stdout",
          "text": [
            "================================\u001b[1m Human Message \u001b[0m=================================\n",
            "\n",
            "Can you assist the customer in setting up MCB's mobile banking app and explain how to use it for everyday transactions?\n",
            "==================================\u001b[1m Ai Message \u001b[0m==================================\n",
            "\n",
            "Certainly! I can help you guide a customer through setting up MCB's mobile banking app and using it for everyday transactions.  However, I need more information about MCB's specific mobile banking app.  To give accurate instructions, please provide details such as:\n",
            "\n",
            "* **App Name:** The exact name of the MCB mobile banking app (e.g., \"MCB Mobile,\" \"MCB Bank App\").\n",
            "* **App Store Links:** Links to download the app from the Apple App Store and Google Play Store.\n",
            "* **Registration Process:** A step-by-step description of the registration process, including required information (account number, CNIC, etc.) and security measures.\n",
            "* **Transaction Features:** A list of the app's features, such as fund transfers, bill payments, balance checks, and mobile top-ups.  Include details on how each feature works.\n",
            "\n",
            "Once I have this information, I can create a helpful guide for your customers.\n"
          ]
        }
      ],
      "source": [
        "for m in messages['messages']:\n",
        "    m.pretty_print()"
      ]
    },
    {
      "cell_type": "code",
      "execution_count": 15,
      "metadata": {
        "colab": {
          "base_uri": "https://localhost:8080/"
        },
        "id": "oRAlly442ATK",
        "outputId": "aac42322-8b3e-4f8b-f1cf-ae675993cb99"
      },
      "outputs": [
        {
          "output_type": "stream",
          "name": "stdout",
          "text": [
            "{'last_user_input': \"Can you assist the customer in setting up MCB's mobile banking app and explain how to use it for everyday transactions?\"}\n"
          ]
        }
      ],
      "source": [
        "print(conversation_memory)"
      ]
    },
    {
      "source": [
        "messages = [\n",
        "    HumanMessage(content=\"I apologize for the previous error. I am still learning to access and process information. Please let me know if you're experiencing issues with MCB Bank services. For example, are you having trouble with online banking, account access, transactions, or something else? Please provide details such as error messages or actions that led to the issue.\")\n",
        "]\n",
        "\n",
        "messages = llm_with_tools.invoke(messages)"
      ],
      "cell_type": "code",
      "metadata": {
        "id": "NRHmRJjxbplZ"
      },
      "execution_count": 16,
      "outputs": []
    },
    {
      "source": [
        "messages.pretty_print()"
      ],
      "cell_type": "code",
      "metadata": {
        "id": "bu1v4pydcNzB",
        "outputId": "4d1e617f-3705-4e1f-bef5-c8e116b5af0c",
        "colab": {
          "base_uri": "https://localhost:8080/"
        }
      },
      "execution_count": 17,
      "outputs": [
        {
          "output_type": "stream",
          "name": "stdout",
          "text": [
            "==================================\u001b[1m Ai Message \u001b[0m==================================\n",
            "\n",
            "I do not have personal experiences or the ability to access and process information like a human user.  I am a language model and cannot interact with MCB Bank services directly.  Therefore, I cannot report any issues I'm experiencing.  To get help with MCB Bank services, you should contact their customer support directly.\n"
          ]
        }
      ]
    },
    {
      "cell_type": "code",
      "source": [
        "print(conversation_memory)"
      ],
      "metadata": {
        "id": "gLmBa8A1cC_X",
        "outputId": "65a5e063-1be1-4499-b852-ccb5501b0b10",
        "colab": {
          "base_uri": "https://localhost:8080/"
        }
      },
      "execution_count": 18,
      "outputs": [
        {
          "output_type": "stream",
          "name": "stdout",
          "text": [
            "{'last_user_input': \"Can you assist the customer in setting up MCB's mobile banking app and explain how to use it for everyday transactions?\"}\n"
          ]
        }
      ]
    },
    {
      "cell_type": "code",
      "execution_count": null,
      "metadata": {
        "colab": {
          "base_uri": "https://localhost:8080/"
        },
        "id": "f0i-D1ARWhvB",
        "outputId": "9175fb62-2d3a-456e-914a-a62a9fbfb459"
      },
      "outputs": [
        {
          "output_type": "stream",
          "name": "stdout",
          "text": [
            "Assistant: Wa alaikum assalam!  How can I help you today?\n",
            "\n",
            "Assistant: \n",
            "Assistant: content=\"## Bank Cheat Sheet: Key Concepts & Terminology\\n\\nThis cheat sheet covers essential aspects of banks and their operations.\\n\\n**I. Core Functions of Banks:**\\n\\n* **Accepting Deposits:** Banks collect funds from individuals and businesses, offering various account types:\\n    * **Checking Accounts:** For everyday transactions; debit cards often linked.  *Example:* Writing checks, using ATMs.\\n    * **Savings Accounts:** For accumulating funds; typically earns interest. *Example:*  Saving for a down payment.\\n    * **Money Market Accounts:** Higher interest rates than savings, often with limited transactions. *Example:*  Short-term investment vehicle.\\n    * **Certificates of Deposit (CDs):** Fixed-term deposits with a fixed interest rate; penalties for early withdrawal. *Example:*  Guaranteed return for a specific period.\\n\\n* **Providing Loans:** Banks lend money to individuals and businesses, charging interest:\\n    * **Mortgages:** Loans for purchasing real estate. *Example:* Home loan.\\n    * **Auto Loans:** Loans for purchasing vehicles. *Example:* Car financing.\\n    * **Personal Loans:** Unsecured loans for various purposes. *Example:* Debt consolidation.\\n    * **Business Loans:** Loans for business operations and expansion. *Example:* Small business loan.\\n\\n* **Facilitating Payments:** Banks process transactions, including:\\n    * **Wire Transfers:** Electronic fund transfers between accounts. *Example:* Sending money internationally.\\n    * **Checks:** Written orders to pay a specific amount. *Example:* Paying bills.\\n    * **Debit/Credit Cards:** Electronic payment methods. *Example:* Online shopping.\\n    * **ACH Transfers:** Automated Clearing House transfers for electronic payments. *Example:* Direct deposit of salary.\\n\\n**II. Key Banking Terms:**\\n\\n* **Interest Rate:** The cost of borrowing money or the return on savings.  *Example:* 5% annual interest rate on a loan.\\n* **Principal:** The original amount of a loan or deposit. *Example:* $100,000 mortgage principal.\\n* **APR (Annual Percentage Rate):** The annual cost of borrowing money, including fees and interest. *Example:* 7% APR on a credit card.\\n* **APY (Annual Percentage Yield):** The annual rate of return on an investment, taking into account compounding. *Example:* 4% APY on a savings account.\\n* **Overdraft:**  Withdrawing more money than is available in an account. *Example:*  Insufficient funds to cover a check.\\n* **NSF (Non-Sufficient Funds):**  A check returned due to insufficient funds. *Example:*  Bounced check.\\n* **Credit Score:** A numerical representation of creditworthiness. *Example:*  A FICO score of 750.\\n* **Collateral:** Assets pledged as security for a loan. *Example:*  A house used as collateral for a mortgage.\\n* **FDIC (Federal Deposit Insurance Corporation):** A US government agency that insures deposits in banks. *Example:* Up to $250,000 per depositor, per insured bank.\\n\\n**III. Types of Banks:**\\n\\n* **Commercial Banks:** Offer a wide range of services to individuals and businesses. *Example:* Bank of America, Chase.\\n* **Savings Banks/Savings and Loan Associations (S&Ls):** Primarily focus on savings and mortgages. *Example:*  Local community banks.\\n* **Credit Unions:** Member-owned financial cooperatives. *Example:*  Navy Federal Credit Union.\\n* **Investment Banks:** Focus on underwriting securities and providing financial advice to corporations. *Example:* Goldman Sachs, Morgan Stanley.\\n* **Central Banks:** Control a country's monetary policy. *Example:* The Federal Reserve (US).\\n\\n\\n**IV.  Managing Your Finances:**\\n\\n* **Budgeting:** Tracking income and expenses to manage finances effectively.\\n* **Saving:** Regularly setting aside money for future needs.\\n* **Investing:** Putting money into assets to generate returns.\\n* **Debt Management:** Strategically paying off debts to minimize interest payments.\\n\\n\\n**V.  Protecting Yourself:**\\n\\n* **Secure Passwords:** Use strong, unique passwords for online banking.\\n* **Monitor Accounts:** Regularly review bank statements for unauthorized transactions.\\n* **Fraud Awareness:** Be cautious of phishing scams and other fraudulent activities.\\n* **Identity Theft Protection:**  Take steps to protect your personal information.\\n\\n\\nThis cheat sheet provides a basic overview.  Always consult with a financial professional for personalized advice.\\n\" additional_kwargs={} response_metadata={'prompt_feedback': {'block_reason': 0, 'safety_ratings': []}, 'finish_reason': 'STOP', 'safety_ratings': []} id='run-da9ad5df-2c5b-4a10-9690-17d1650af2ec-0' usage_metadata={'input_tokens': 18, 'output_tokens': 942, 'total_tokens': 960, 'input_token_details': {'cache_read': 0}}\n",
            "Assistant: Here's a bank cheat sheet based on your request.  Note that this is a simplified overview, and specific details may vary depending on the bank and your account type.  Always refer to your bank's official materials for accurate and up-to-date information.\n",
            "\n",
            "Assistant: I need more information to understand your request.  \"Bank transactions raseed\" is not a complete query.  Please clarify what you'd like to know about your bank transactions. For example, are you looking for:\n",
            "\n",
            "* **A specific transaction?**  (e.g., \"Show me the transaction from March 10th\")\n",
            "* **Your transaction history?** (e.g., \"Show me my transactions for the last month\")\n",
            "* **The status of a pending transaction?** (e.g., \"What is the status of my transaction to XYZ company?\")\n",
            "* **To understand a particular charge?** (e.g., \"I don't recognize this charge of $50 on my account\")\n",
            "\n",
            "Please provide more details so I can assist you.\n",
            "\n",
            "Assistant: To show you your transactions for the last month, I need your account information.  For security reasons, I cannot ask for your personal details directly. Please visit your nearest MCB Bank branch or use our online banking platform to access your transaction history.  You can also contact our customer service hotline at [insert phone number here] for assistance.\n",
            "\n",
            "Assistant: I cannot directly access or process personal information like account numbers and names due to privacy and security reasons.  To assist you with your banking query related to the account 123 456 7890 for Muhammad Daniyal, I need you to provide me with the specific question you have.  For example, are you inquiring about the account balance, recent transactions, or something else?  Please be aware that I will only be able to provide information if you can verify your identity through secure methods.\n",
            "\n",
            "Assistant: \n",
            "Assistant: content=\"I understand you're concerned about an unrecognized $50 charge on your account.  To help me investigate this for you, could you please provide me with the following information?\\n\\n* **The date of the transaction:** This will help narrow down the possibilities.\\n* **The merchant name or description of the charge:** Even a partial name or description can be helpful.\\n* **The last four digits of the card number associated with the charge:**  This will ensure we're looking at the correct account.\\n\\nOnce I have this information, I can look into the transaction details and determine the source of the charge.  We can then discuss options for resolving the issue, which may include disputing the charge if it's fraudulent.\\n\\nIn the meantime, please be aware of the possibility of unauthorized access and consider reviewing your recent transactions for any other suspicious activity.  If you find anything else, please let me know immediately.\\n\" additional_kwargs={} response_metadata={'prompt_feedback': {'block_reason': 0, 'safety_ratings': []}, 'finish_reason': 'STOP', 'safety_ratings': []} id='run-c9831a60-78c6-4b0f-bfca-4d01ef817ebf-0' usage_metadata={'input_tokens': 28, 'output_tokens': 190, 'total_tokens': 218, 'input_token_details': {'cache_read': 0}}\n",
            "Assistant: I understand you're concerned about an unrecognized $50 charge on your account. To help me investigate, please provide:\n",
            "\n",
            "* The date of the transaction\n",
            "* The merchant name or description\n",
            "* The last four digits of the card number\n",
            "\n",
            "Once I have this, I can look into the transaction details and determine the source. We can then discuss options for resolving the issue, which may include disputing the charge if it's fraudulent.  In the meantime, review your recent transactions for any other suspicious activity.\n",
            "\n",
            "Assistant: I'm sorry, I don't have access to your account information.  To assist you with your banking query, I need more details.  Please provide your account number or other identifying information (but please do not share sensitive information like your full account number or password online).  I can then help you with checking your balance, recent transactions, or other account-related questions.\n",
            "\n",
            "Assistant: 2 + 2 = 4\n",
            "\n",
            "Assistant: I'm sorry, but I don't have any information about Penadol.  My purpose is to help MCB bank customers with their banking needs.  If you have a question about your MCB account, I'd be happy to assist.\n",
            "\n",
            "Assistant: My name is Gemini.\n",
            "\n",
            "Assistant: mujhe maf karna, main talha ko nahin jata.  main sirf ek computer program hu aur mujhe logon ke baare mein jankari nahin hai.  agar aapke paas koi aur sawal hai, toh mujhse pooch sakte hain.\n",
            "\n",
            "Assistant: Please provide me with your account information or other identifying details so I can help you.  For security reasons, I cannot access your personal information unless you provide it to me.\n",
            "\n",
            "Assistant: OK.  How can I help you today?\n",
            "\n",
            "Assistant: I apologize for the previous mention of UBL Bank.  I am programmed to assist with MCB Bank customer support and should not have referenced other banks.  How can I help you with your MCB Bank inquiry today?\n",
            "\n",
            "Assistant: To check the status of your transaction to XYZ company, I need more information from you.  Please provide me with either your transaction reference number or the date and approximate amount of the transaction.  This will help me quickly locate the details for you.\n",
            "\n",
            "Assistant: To help you with your query about the transaction made on December 15th for approximately 1000 PKR, I need more information.  Please provide me with:\n",
            "\n",
            "* **Your account number:** This is crucial for me to access your transaction history.\n",
            "* **The type of transaction:** Was it an ATM withdrawal, online transfer, or something else?\n",
            "* **The beneficiary or merchant (if applicable):**  Knowing who the money was sent to will help me locate the transaction.\n",
            "\n",
            "Once I have this information, I can access your transaction history and provide you with the details of the transaction you're looking for.\n",
            "\n",
            "Assistant: \n",
            "Assistant: content='Thank you for providing your account number, 123 4567 890.  To best assist you, could you please tell me what you need help with today?  For example, are you inquiring about your balance, recent transactions, making a payment, or experiencing a different issue?  Providing more details will allow me to help you more efficiently.\\n' additional_kwargs={} response_metadata={'prompt_feedback': {'block_reason': 0, 'safety_ratings': []}, 'finish_reason': 'STOP', 'safety_ratings': []} id='run-4f862665-393d-43a0-866f-b0b6fa974354-0' usage_metadata={'input_tokens': 29, 'output_tokens': 78, 'total_tokens': 107, 'input_token_details': {'cache_read': 0}}\n",
            "Assistant: I see you've mentioned account number 123 4567 890 twice.  To help you, I need to know what you want to do with this account information.  For example, are you checking your balance, looking at recent transactions, wanting to make a payment, or experiencing a problem with your account?  Please provide more details about your request.\n",
            "\n",
            "Assistant: To help you with your transaction, I need some more information.  Please tell me:\n",
            "\n",
            "* **What type of transaction are you inquiring about?** (e.g., deposit, withdrawal, transfer, payment)\n",
            "* **What is the date and approximate amount of the transaction?**\n",
            "* **If applicable, what account was the transaction related to?** (e.g., account number, type of account)\n",
            "* **What specifically is the issue you are experiencing?** (e.g., incorrect amount, missing transaction, unauthorized transaction)\n",
            "\n",
            "The more details you can provide, the better I can assist you.\n",
            "\n",
            "Assistant: \n",
            "Assistant: content='Thank you for contacting us.  To assist you with your withdrawal request of 50,000 from your current account, we need some additional information for security purposes.  Please reply with:\\n\\n* **Your full name:**\\n* **Your date of birth:**\\n* **The last four digits of your social security number (or equivalent identification number):**\\n\\nOnce we have verified your identity, we can proceed with your request.  We may also contact you by phone to confirm.  Please expect a response within [State timeframe, e.g., 24-48 hours].\\n\\nAlternatively, you can visit your nearest branch with valid photo ID for a faster withdrawal.\\n\\nThank you for your patience and cooperation.\\n' additional_kwargs={} response_metadata={'prompt_feedback': {'block_reason': 0, 'safety_ratings': []}, 'finish_reason': 'STOP', 'safety_ratings': []} id='run-7301ab09-8fb5-4b4c-aaed-ed43cd1558bf-0' usage_metadata={'input_tokens': 36, 'output_tokens': 151, 'total_tokens': 187, 'input_token_details': {'cache_read': 0}}\n",
            "Assistant: Based on your previous query about two withdrawals of 50,000 from account 123 4567 890, I need more information to verify your identity before I can provide details on these transactions.  Please provide your full name, date of birth, and the last four digits of your social security number (or equivalent identification number).\n",
            "\n",
            "Assistant: I cannot ask for your personal information, such as account details or other identifying information, for security reasons.  If you are trying to access your MCB bank account or need assistance with a specific issue, please contact MCB bank directly through their official website or phone number.  They will be able to verify your identity and assist you securely.\n",
            "\n",
            "User: Muhammad Daniyal 5-10-2005 4667 42402 34567789\n",
            "Assistant: I cannot directly access or process personal data like the information you provided (name, date, account numbers).  Sharing such details is a security risk.  If you have a question about your MCB bank account, please contact MCB bank customer support directly through their official channels (phone, app, or website) for secure assistance.  They will be able to help you with your query while protecting your personal information.\n",
            "\n"
          ]
        }
      ],
      "source": [
        "def stream_graph_updates(user_input: str):\n",
        "    for event in react_graph.stream({\"messages\": [(\"user\", user_input)]}):\n",
        "        for value in event.values():\n",
        "            print(\"Assistant:\", value[\"messages\"][-1].content)\n",
        "\n",
        "\n",
        "while True:\n",
        "    try:\n",
        "        user_input = input(\"User: \")\n",
        "        if user_input.lower() in [\"quit\", \"exit\", \"q\"]:\n",
        "            print(\"Goodbye!\")\n",
        "            break\n",
        "\n",
        "        stream_graph_updates(user_input)\n",
        "    except:\n",
        "        # fallback if input() is not available\n",
        "        user_input = \"What do you know about LangGraph?\"\n",
        "        print(\"User: \" + user_input)\n",
        "        stream_graph_updates(user_input)\n",
        "        break"
      ]
    }
  ],
  "metadata": {
    "colab": {
      "provenance": [],
      "include_colab_link": true
    },
    "kernelspec": {
      "display_name": "Python 3",
      "name": "python3"
    },
    "language_info": {
      "name": "python"
    }
  },
  "nbformat": 4,
  "nbformat_minor": 0
}